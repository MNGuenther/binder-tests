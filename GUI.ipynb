{
 "cells": [
  {
   "cell_type": "code",
   "execution_count": 1,
   "id": "a36cb28c-acaf-48ac-8b66-dc148e8a19a8",
   "metadata": {},
   "outputs": [],
   "source": [
    "import ipywidgets\n",
    "from IPython.display import display, HTML, FileLink"
   ]
  },
  {
   "cell_type": "code",
   "execution_count": 2,
   "id": "59792c6b-31ad-4c16-bd55-027c7266ea51",
   "metadata": {},
   "outputs": [
    {
     "data": {
      "application/vnd.jupyter.widget-view+json": {
       "model_id": "865ffca5ba004d3cb6ff656cab1f153d",
       "version_major": 2,
       "version_minor": 0
      },
      "text/plain": [
       "IntSlider(value=0)"
      ]
     },
     "metadata": {},
     "output_type": "display_data"
    }
   ],
   "source": [
    "s = ipywidgets.IntSlider()\n",
    "display(s)"
   ]
  },
  {
   "cell_type": "code",
   "execution_count": 3,
   "id": "d42076da-9741-4fc6-a9f3-c593f8d3e026",
   "metadata": {},
   "outputs": [
    {
     "data": {
      "application/vnd.jupyter.widget-view+json": {
       "model_id": "82d68f1f307745bdb8890d8a63a8b94b",
       "version_major": 2,
       "version_minor": 0
      },
      "text/plain": [
       "HBox(children=(VBox(children=(IntSlider(value=0), FloatSlider(value=0.0)), layout=Layout(align_items='center')…"
      ]
     },
     "metadata": {},
     "output_type": "display_data"
    }
   ],
   "source": [
    "s1 = ipywidgets.IntSlider()\n",
    "s2 = ipywidgets.FloatSlider()\n",
    "b1 = ipywidgets.Button(description='Click')\n",
    "\n",
    "box1 = ipywidgets.VBox(children=[s1, s2], layout=ipywidgets.Layout(align_items='center'))\n",
    "box2 = ipywidgets.HBox(children=[box1, b1], layout=ipywidgets.Layout(align_items='center'))\n",
    "\n",
    "display(box2)"
   ]
  }
 ],
 "metadata": {
  "kernelspec": {
   "display_name": "env_python310",
   "language": "python",
   "name": "env_python310"
  },
  "language_info": {
   "codemirror_mode": {
    "name": "ipython",
    "version": 3
   },
   "file_extension": ".py",
   "mimetype": "text/x-python",
   "name": "python",
   "nbconvert_exporter": "python",
   "pygments_lexer": "ipython3",
   "version": "3.10.4"
  }
 },
 "nbformat": 4,
 "nbformat_minor": 5
}
